{
 "cells": [
  {
   "cell_type": "markdown",
   "metadata": {},
   "source": [
    "# Find Longest Prefix"
   ]
  },
  {
   "cell_type": "code",
   "execution_count": 1,
   "metadata": {
    "collapsed": true
   },
   "outputs": [],
   "source": [
    " l = ['110025','11022','1107777777','1109','11092']\n",
    "    \n",
    "def find_longest_prefix(arr):\n",
    "    common_prefix=''\n",
    "    first_num = arr[0]\n",
    "    \n",
    "    for i in range(len(first_num)):\n",
    "        for num in arr[1:]:\n",
    "            if i>= len(num) or num[i] != first_num[i]:\n",
    "                return common_prefix\n",
    "        common_prefix += first_num[i]"
   ]
  },
  {
   "cell_type": "code",
   "execution_count": 2,
   "metadata": {},
   "outputs": [
    {
     "data": {
      "text/plain": [
       "'110'"
      ]
     },
     "execution_count": 2,
     "metadata": {},
     "output_type": "execute_result"
    }
   ],
   "source": [
    "find_longest_prefix(l)"
   ]
  },
  {
   "cell_type": "markdown",
   "metadata": {
    "collapsed": true
   },
   "source": [
    "# Binary Search"
   ]
  },
  {
   "cell_type": "code",
   "execution_count": 8,
   "metadata": {
    "collapsed": true
   },
   "outputs": [],
   "source": [
    "aalist = [1,4,5,7,8,9,12]\n",
    "aitem = 9"
   ]
  },
  {
   "cell_type": "code",
   "execution_count": 9,
   "metadata": {},
   "outputs": [
    {
     "data": {
      "text/plain": [
       "5"
      ]
     },
     "execution_count": 9,
     "metadata": {},
     "output_type": "execute_result"
    }
   ],
   "source": [
    "# Binary Search\n",
    "def bsearch(alist, item):\n",
    "    first = 0\n",
    "    last = len(alist) - 1\n",
    "\n",
    "    while (last >= first):\n",
    "        mid = (first + last) // 2\n",
    "        if alist[mid] == item:\n",
    "            return mid\n",
    "        if alist[mid] > item:\n",
    "            last = mid - 1\n",
    "        else:\n",
    "            first = mid + 1\n",
    "    return False\n",
    "\n",
    "bsearch(aalist, aitem)"
   ]
  },
  {
   "cell_type": "markdown",
   "metadata": {},
   "source": [
    "# Find 2 sums"
   ]
  },
  {
   "cell_type": "code",
   "execution_count": 11,
   "metadata": {},
   "outputs": [
    {
     "data": {
      "text/plain": [
       "[9, 2]"
      ]
     },
     "execution_count": 11,
     "metadata": {},
     "output_type": "execute_result"
    }
   ],
   "source": [
    "alist = [1,2,3,4,5,9]\n",
    "target = 11\n",
    "\n",
    "# Find 2 sum\n",
    "def temp(alist, target):\n",
    "    temp = {}\n",
    "    for item in alist:\n",
    "        if (target - item) in temp:\n",
    "            return [item, target - item]\n",
    "        if item not in temp:\n",
    "            temp[item]=1\n",
    "    \n",
    "    return False\n",
    "\n",
    "temp(alist, target)"
   ]
  },
  {
   "cell_type": "markdown",
   "metadata": {},
   "source": [
    "# Recursive: Finbonacci\n"
   ]
  },
  {
   "cell_type": "code",
   "execution_count": 14,
   "metadata": {},
   "outputs": [
    {
     "data": {
      "text/plain": [
       "89"
      ]
     },
     "execution_count": 14,
     "metadata": {},
     "output_type": "execute_result"
    }
   ],
   "source": [
    "cache = {}\n",
    "cache[1]=1\n",
    "cache[2]=2\n",
    "\n",
    "def fin(n):\n",
    "    if n in [1,2]:\n",
    "        return cache[n]\n",
    "    else:\n",
    "        cache[n] = fin(n-1) + fin(n-2)\n",
    "        return cache[n]\n",
    "fin(10)"
   ]
  },
  {
   "cell_type": "markdown",
   "metadata": {},
   "source": [
    "# Find leader larger than all elements to its right"
   ]
  },
  {
   "cell_type": "code",
   "execution_count": 18,
   "metadata": {},
   "outputs": [
    {
     "data": {
      "text/plain": [
       "11"
      ]
     },
     "execution_count": 18,
     "metadata": {},
     "output_type": "execute_result"
    }
   ],
   "source": [
    "alist = [6,7,8,9,7,11,3,6]\n",
    "def find_leader(alist):\n",
    "    temp_large = -1\n",
    "    for num in alist:\n",
    "        if num > temp_large:\n",
    "            temp_large = num\n",
    "    return temp_large\n",
    "\n",
    "find_leader(alist)"
   ]
  },
  {
   "cell_type": "code",
   "execution_count": 19,
   "metadata": {},
   "outputs": [
    {
     "name": "stdout",
     "output_type": "stream",
     "text": [
      "11\n"
     ]
    }
   ],
   "source": [
    "alist = [6,7,8,9,7,11,3,6]\n",
    "def find_leader(alist):\n",
    "    last = len(alist) - 1\n",
    "    t_max = alist[last]\n",
    "    while last >=0:\n",
    "        if alist[last - 1] > t_max:\n",
    "            t_max = alist[last - 1]\n",
    "        last -=1    \n",
    "    print(t_max) \n",
    "find_leader(alist)"
   ]
  },
  {
   "cell_type": "markdown",
   "metadata": {},
   "source": [
    "# Stack, pop, Dictionary: Determine parenthesis"
   ]
  },
  {
   "cell_type": "code",
   "execution_count": 25,
   "metadata": {},
   "outputs": [
    {
     "name": "stdout",
     "output_type": "stream",
     "text": [
      "Correct\n"
     ]
    }
   ],
   "source": [
    "lookup = {'(':')', '[':']'}\n",
    "stack = []\n",
    "alist='([])'\n",
    "\n",
    "\n",
    "def temp(alist):\n",
    "    alist = list(alist)\n",
    "    while alist:\n",
    "        s = alist.pop(0)\n",
    "        \n",
    "        # if prefix\n",
    "        if s in lookup:\n",
    "            stack.append(s)\n",
    "        \n",
    "        # check stack is not empty\n",
    "        elif not stack:\n",
    "            print('Error')\n",
    "            return\n",
    "            \n",
    "        # if suffix\n",
    "        elif s != lookup[stack.pop()]:\n",
    "            print('Error')\n",
    "            return\n",
    "    print('Correct')\n",
    "\n",
    "temp(alist)  "
   ]
  },
  {
   "cell_type": "markdown",
   "metadata": {},
   "source": [
    "# tree"
   ]
  },
  {
   "cell_type": "markdown",
   "metadata": {},
   "source": [
    "## Definition:\n"
   ]
  },
  {
   "cell_type": "code",
   "execution_count": 26,
   "metadata": {
    "collapsed": true
   },
   "outputs": [],
   "source": [
    "class Node:\n",
    "    def __init__(self, key):\n",
    "        self.data = key\n",
    "        self.left=None\n",
    "        self.right=None"
   ]
  },
  {
   "cell_type": "code",
   "execution_count": 27,
   "metadata": {
    "collapsed": true
   },
   "outputs": [],
   "source": [
    "root = Node(4)\n",
    "b = Node(3)\n",
    "c = Node(5)\n",
    "d = Node(2.5)\n",
    "e = Node(3.5)\n",
    "\n",
    "root.left = b\n",
    "root.right = c\n",
    "b.left = d\n",
    "b.right = e"
   ]
  },
  {
   "cell_type": "markdown",
   "metadata": {},
   "source": [
    "------4\n",
    " \n",
    "----3----5\n",
    "\n",
    "2.5 _ 3.5"
   ]
  },
  {
   "cell_type": "markdown",
   "metadata": {},
   "source": [
    "## Breath first search"
   ]
  },
  {
   "cell_type": "code",
   "execution_count": 29,
   "metadata": {},
   "outputs": [
    {
     "name": "stdout",
     "output_type": "stream",
     "text": [
      "4\n",
      "3\n",
      "5\n",
      "2.5\n",
      "3.5\n"
     ]
    }
   ],
   "source": [
    "def BFT(root):\n",
    "    queue=[]\n",
    "    queue.append(root)\n",
    "    while queue:\n",
    "        print(queue[0].data)\n",
    "        node = queue.pop(0)\n",
    "        if node.left:\n",
    "            queue.append(node.left)\n",
    "        if node.right:\n",
    "            queue.append(node.right)\n",
    "BFT(root)"
   ]
  },
  {
   "cell_type": "markdown",
   "metadata": {},
   "source": [
    "## Depth first search"
   ]
  },
  {
   "cell_type": "code",
   "execution_count": 33,
   "metadata": {},
   "outputs": [
    {
     "name": "stdout",
     "output_type": "stream",
     "text": [
      "4\n",
      "3\n",
      "2.5\n",
      "3.5\n",
      "5\n"
     ]
    }
   ],
   "source": [
    "def DFT(root):\n",
    "    print(root.data)\n",
    "    if root.left:\n",
    "        DFT(root.left)\n",
    "    if root.right:\n",
    "        DFT(root.right) \n",
    "DFT(root)"
   ]
  },
  {
   "cell_type": "markdown",
   "metadata": {},
   "source": [
    "# Linked List"
   ]
  },
  {
   "cell_type": "markdown",
   "metadata": {},
   "source": [
    "## Definition:"
   ]
  },
  {
   "cell_type": "code",
   "execution_count": 34,
   "metadata": {
    "collapsed": true
   },
   "outputs": [],
   "source": [
    "class Node:\n",
    "    def __init__(self, value):\n",
    "        self.data = value\n",
    "        self.next=None"
   ]
  },
  {
   "cell_type": "code",
   "execution_count": 38,
   "metadata": {
    "collapsed": true
   },
   "outputs": [],
   "source": [
    "head = Node(1)\n",
    "b = Node(2)\n",
    "c = Node(2)\n",
    "d = Node(2)\n",
    "e = Node(5)\n",
    "\n",
    "head.next = b\n",
    "b.next = c\n",
    "c.next = d\n",
    "d.next = e"
   ]
  },
  {
   "cell_type": "markdown",
   "metadata": {},
   "source": [
    "## Remove duplicated/consecutive numbers"
   ]
  },
  {
   "cell_type": "code",
   "execution_count": 37,
   "metadata": {},
   "outputs": [
    {
     "name": "stdout",
     "output_type": "stream",
     "text": [
      "1\n",
      "2\n",
      "5\n"
     ]
    }
   ],
   "source": [
    "def temp(head):\n",
    "    cur_node = head # Note: pointer\n",
    "    next_node = head.next\n",
    "    while(cur_node):\n",
    "        while(cur_node.data == next_node.data): # first time would be self vs. self\n",
    "            next_node = next_node.next\n",
    "            if next_node is None:\n",
    "                break\n",
    "        cur_node.next = next_node\n",
    "        cur_node = next_node\n",
    "    \n",
    "    t_node = head\n",
    "    while(t_node):\n",
    "        print(t_node.data)\n",
    "        t_node = t_node.next\n",
    "        \n",
    "    \n",
    "temp(head)    "
   ]
  },
  {
   "cell_type": "markdown",
   "metadata": {},
   "source": [
    "# Sorting"
   ]
  },
  {
   "cell_type": "code",
   "execution_count": 46,
   "metadata": {
    "collapsed": true
   },
   "outputs": [],
   "source": [
    "# Sort dictionary\n",
    "aa = {'e':1, 'd':2, 'f':1.5}"
   ]
  },
  {
   "cell_type": "code",
   "execution_count": 47,
   "metadata": {},
   "outputs": [
    {
     "name": "stdout",
     "output_type": "stream",
     "text": [
      "e 1\n",
      "d 2\n",
      "f 1.5\n"
     ]
    }
   ],
   "source": [
    "for key, item in aa.items():\n",
    "    print(key, item)"
   ]
  },
  {
   "cell_type": "code",
   "execution_count": 48,
   "metadata": {},
   "outputs": [
    {
     "name": "stdout",
     "output_type": "stream",
     "text": [
      "e 1\n",
      "f 1.5\n",
      "d 2\n"
     ]
    }
   ],
   "source": [
    "for key, item in sorted(aa.items(), key = lambda x: x[1]):\n",
    "    print(key, item)"
   ]
  },
  {
   "cell_type": "code",
   "execution_count": 50,
   "metadata": {},
   "outputs": [
    {
     "name": "stdout",
     "output_type": "stream",
     "text": [
      "d 2\n",
      "e 1\n",
      "f 1.5\n"
     ]
    }
   ],
   "source": [
    "for key in sorted(aa.keys()):\n",
    "    print(key, aa[key])"
   ]
  },
  {
   "cell_type": "code",
   "execution_count": 60,
   "metadata": {},
   "outputs": [
    {
     "data": {
      "text/plain": [
       "{1: 'e', 2: 'd', 1.5: 'f'}"
      ]
     },
     "execution_count": 60,
     "metadata": {},
     "output_type": "execute_result"
    }
   ],
   "source": [
    "# reverse dictionary\n",
    "{u:v for v,u in aa.items()}"
   ]
  },
  {
   "cell_type": "code",
   "execution_count": 79,
   "metadata": {},
   "outputs": [
    {
     "data": {
      "text/plain": [
       "[('e', 1), ('d', 2), ('f', 1.5)]"
      ]
     },
     "execution_count": 79,
     "metadata": {},
     "output_type": "execute_result"
    }
   ],
   "source": [
    "# decompose into 2 series\n",
    "a = list(aa.items())\n",
    "a"
   ]
  },
  {
   "cell_type": "code",
   "execution_count": 83,
   "metadata": {},
   "outputs": [
    {
     "name": "stdout",
     "output_type": "stream",
     "text": [
      "('e', 'd', 'f')\n",
      "(1, 2, 1.5)\n"
     ]
    }
   ],
   "source": [
    "list1, list2 = zip(*a)\n",
    "print(list1)\n",
    "print(list2)"
   ]
  },
  {
   "cell_type": "code",
   "execution_count": 64,
   "metadata": {},
   "outputs": [
    {
     "name": "stdout",
     "output_type": "stream",
     "text": [
      "[('Al', 2), ('Bill', 1), ('Carol', 2), ('Abel', 3), ('Zeke', 2), ('Chris', 1)]\n",
      "[('Abel', 3), ('Al', 2), ('Bill', 1), ('Carol', 2), ('Chris', 1), ('Zeke', 2)]\n",
      "[('Abel', 3), ('Al', 2), ('Carol', 2), ('Zeke', 2), ('Bill', 1), ('Chris', 1)]\n"
     ]
    }
   ],
   "source": [
    "## two layer sorting\n",
    "a = [('Al', 2),('Bill', 1),('Carol', 2), ('Abel', 3), ('Zeke', 2), ('Chris', 1)]  \n",
    "b = sorted(a, key = lambda x: x[0])\n",
    "c = sorted(b, key = lambda x: x[1], reverse = True)\n",
    "print(a)\n",
    "print(b)\n",
    "print(c)"
   ]
  },
  {
   "cell_type": "code",
   "execution_count": 69,
   "metadata": {},
   "outputs": [
    {
     "data": {
      "text/plain": [
       "[(1, 2, 3), (1, 3, 2), (3, 4, 1)]"
      ]
     },
     "execution_count": 69,
     "metadata": {},
     "output_type": "execute_result"
    }
   ],
   "source": [
    "# three layer sorting\n",
    "alist = [(3,4,1),(1,3,2),(1,2,3)]\n",
    "sorted(alist) #default..."
   ]
  },
  {
   "cell_type": "code",
   "execution_count": 70,
   "metadata": {},
   "outputs": [
    {
     "data": {
      "text/plain": [
       "[(1, 2, 3, 'a'),\n",
       " (1, 2, 3, 'b'),\n",
       " (1, 2, 11, 'e'),\n",
       " (2, 9, 3, 'd'),\n",
       " (3, 3, 1, 'c')]"
      ]
     },
     "execution_count": 70,
     "metadata": {},
     "output_type": "execute_result"
    }
   ],
   "source": [
    "# three layer sorting\n",
    "alist = [(1,2,3,'a'),(1,2,3,'b'),(3,3,1,'c'),(2,9,3,'d'), (1,2,11,'e')]\n",
    "sorted(alist, key = lambda x : (x[0], x[1], x[2]))"
   ]
  },
  {
   "cell_type": "code",
   "execution_count": 71,
   "metadata": {},
   "outputs": [
    {
     "data": {
      "text/plain": [
       "['1.1.9', '1.2.3', '1.2.4', '2.9.2']"
      ]
     },
     "execution_count": 71,
     "metadata": {},
     "output_type": "execute_result"
    }
   ],
   "source": [
    "alist = ['1.2.3','1.2.4','2.9.2','1.1.9']\n",
    "sorted(alist)"
   ]
  },
  {
   "cell_type": "code",
   "execution_count": 72,
   "metadata": {},
   "outputs": [
    {
     "data": {
      "text/plain": [
       "['1.1.9', '1.2.3', '1.2.4', '2.9.2']"
      ]
     },
     "execution_count": 72,
     "metadata": {},
     "output_type": "execute_result"
    }
   ],
   "source": [
    "alist = ['1.2.3','1.2.4','2.9.2','1.1.9']\n",
    "sorted(alist, key = lambda x: list(map(int, x.split('.'))))"
   ]
  },
  {
   "cell_type": "markdown",
   "metadata": {},
   "source": [
    "# Most Popular Items:\n"
   ]
  },
  {
   "cell_type": "code",
   "execution_count": 52,
   "metadata": {
    "collapsed": true
   },
   "outputs": [],
   "source": [
    "itemList = ['hi', 'hi', 'hello', 'bye']\n"
   ]
  },
  {
   "cell_type": "code",
   "execution_count": 58,
   "metadata": {
    "collapsed": true
   },
   "outputs": [],
   "source": [
    "def temp(itemList):   \n",
    "    counter = {}\n",
    "    maxItemCount = 0\n",
    "    \n",
    "    for item in itemList:\n",
    "        if item in counter:\n",
    "            counter[item] += 1\n",
    "        else:\n",
    "            counter[item] = 1\n",
    "        maxItemCount = maxItemCount if maxItemCount > counter[item] else counter[item]\n",
    "    \n",
    "    return maxItemCount"
   ]
  },
  {
   "cell_type": "code",
   "execution_count": 59,
   "metadata": {},
   "outputs": [
    {
     "data": {
      "text/plain": [
       "2"
      ]
     },
     "execution_count": 59,
     "metadata": {},
     "output_type": "execute_result"
    }
   ],
   "source": [
    "temp(itemList)"
   ]
  },
  {
   "cell_type": "markdown",
   "metadata": {},
   "source": [
    "# File IO and re"
   ]
  },
  {
   "cell_type": "code",
   "execution_count": 12,
   "metadata": {
    "scrolled": false
   },
   "outputs": [
    {
     "name": "stdout",
     "output_type": "stream",
     "text": [
      "Chapter 3\n",
      "\n",
      "fvddf Line 2 fcdcc dfvcscs cdcsc\n",
      "\n",
      "frcfdrfr Line 4 fvddvd\n",
      "\n",
      "Chapter 4\n",
      "\n",
      "fvddf Line 2 fcdcc dfvcscs cdcsc\n",
      "\n",
      "frcfdrfr Line 4 fvddvd\n",
      "\n",
      "Line 245-987\n",
      "\n",
      "Line seven-ten\n",
      "\n"
     ]
    }
   ],
   "source": [
    "with open('test_data2.txt') as f:\n",
    "    for line in f:\n",
    "        print(line)"
   ]
  },
  {
   "cell_type": "code",
   "execution_count": 14,
   "metadata": {},
   "outputs": [
    {
     "name": "stdout",
     "output_type": "stream",
     "text": [
      "3\n",
      "Line 2\n",
      "Line 4\n",
      "4\n",
      "Line 2\n",
      "Line 4\n",
      "Line 245\n",
      "245-987\n"
     ]
    }
   ],
   "source": [
    "import re\n",
    "with open('test_data2.txt') as f:\n",
    "    for line in f:\n",
    "        ChapNum = re.compile('Chapter (\\d+)')\n",
    "        chap_num = ChapNum.findall(line)\n",
    "        if chap_num:\n",
    "            print(chap_num[0])\n",
    "            \n",
    "        LineNum = re.compile('Line [0-9]+')\n",
    "        line_num = LineNum.findall(line)\n",
    "        if line_num:\n",
    "            print(line_num[0])\n",
    "            \n",
    "                    \n",
    "        LineNum = re.compile('Line ([0-9]+\\-[0-9]+)')\n",
    "        line_num = LineNum.findall(line)\n",
    "        if line_num:\n",
    "            print(line_num[0])"
   ]
  },
  {
   "cell_type": "markdown",
   "metadata": {},
   "source": [
    "# Convert text to number"
   ]
  },
  {
   "cell_type": "code",
   "execution_count": 13,
   "metadata": {},
   "outputs": [],
   "source": [
    "def text2int(textnum, numwords={}):\n",
    "    units_dict = {\"one\":1, \"two\":2, \"eleven\":11,\n",
    "                  \"twenty\":20, \"fifty\":50}\n",
    "    \n",
    "    scales_dict = {\"hundred\":2, \"thousand\":3}\n",
    "    \n",
    "    unit = 0\n",
    "    scale = 0\n",
    "    result = 0\n",
    "    \n",
    "    for word in textnum.split():\n",
    "        if word in units_dict:\n",
    "            unit += units_dict[word]\n",
    "            \n",
    "        if word in scales_dict:\n",
    "            scale = 10 ** scales_dict[word]\n",
    "            result += scale * unit\n",
    "            unit = 0\n",
    "\n",
    "    result += unit\n",
    "\n",
    "    return result"
   ]
  },
  {
   "cell_type": "code",
   "execution_count": 14,
   "metadata": {},
   "outputs": [
    {
     "name": "stdout",
     "output_type": "stream",
     "text": [
      "21152\n"
     ]
    }
   ],
   "source": [
    "print (text2int(\"twenty one thousand one hundred and fifty two\"))\n",
    "#7100031337"
   ]
  },
  {
   "cell_type": "code",
   "execution_count": null,
   "metadata": {
    "collapsed": true
   },
   "outputs": [],
   "source": []
  }
 ],
 "metadata": {
  "hide_input": false,
  "kernelspec": {
   "display_name": "Python [default]",
   "language": "python",
   "name": "python3"
  },
  "language_info": {
   "codemirror_mode": {
    "name": "ipython",
    "version": 3
   },
   "file_extension": ".py",
   "mimetype": "text/x-python",
   "name": "python",
   "nbconvert_exporter": "python",
   "pygments_lexer": "ipython3",
   "version": "3.6.5"
  },
  "toc": {
   "base_numbering": 1,
   "nav_menu": {
    "height": "12px",
    "width": "252px"
   },
   "number_sections": true,
   "sideBar": true,
   "skip_h1_title": false,
   "title_cell": "Table of Contents",
   "title_sidebar": "Contents",
   "toc_cell": false,
   "toc_position": {
    "height": "calc(100% - 180px)",
    "left": "10px",
    "top": "150px",
    "width": "305px"
   },
   "toc_section_display": "block",
   "toc_window_display": false
  }
 },
 "nbformat": 4,
 "nbformat_minor": 2
}
