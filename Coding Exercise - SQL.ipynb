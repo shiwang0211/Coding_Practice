{
 "cells": [
  {
   "cell_type": "markdown",
   "metadata": {},
   "source": [
    "# FB -Post\n"
   ]
  },
  {
   "cell_type": "code",
   "execution_count": 1,
   "metadata": {},
   "outputs": [],
   "source": [
    "%load_ext sql"
   ]
  },
  {
   "cell_type": "code",
   "execution_count": 2,
   "metadata": {},
   "outputs": [
    {
     "data": {
      "text/plain": [
       "'Connected: @None'"
      ]
     },
     "execution_count": 2,
     "metadata": {},
     "output_type": "execute_result"
    }
   ],
   "source": [
    "%sql sqlite://"
   ]
  },
  {
   "cell_type": "markdown",
   "metadata": {},
   "source": [
    "## Prepare"
   ]
  },
  {
   "cell_type": "markdown",
   "metadata": {},
   "source": [
    "Create Table"
   ]
  },
  {
   "cell_type": "code",
   "execution_count": 25,
   "metadata": {
    "scrolled": false
   },
   "outputs": [
    {
     "name": "stdout",
     "output_type": "stream",
     "text": [
      " * sqlite://\n",
      "Done.\n",
      "Done.\n"
     ]
    },
    {
     "data": {
      "text/plain": [
       "[]"
      ]
     },
     "execution_count": 25,
     "metadata": {},
     "output_type": "execute_result"
    }
   ],
   "source": [
    "%%sql\n",
    "DROP TABLE IF EXISTS user_actions;\n",
    "CREATE TABLE user_actions (ds String,\n",
    "                           user_id Integer,\n",
    "                           post_id Integer,\n",
    "                           action String,\n",
    "                           extra String,\n",
    "                          time_1 Integer,\n",
    "                          time_2 Integer)"
   ]
  },
  {
   "cell_type": "markdown",
   "metadata": {},
   "source": [
    "Insert values"
   ]
  },
  {
   "cell_type": "code",
   "execution_count": 26,
   "metadata": {},
   "outputs": [
    {
     "name": "stdout",
     "output_type": "stream",
     "text": [
      " * sqlite://\n",
      "0 rows affected.\n",
      "7 rows affected.\n"
     ]
    },
    {
     "data": {
      "text/plain": [
       "[]"
      ]
     },
     "execution_count": 26,
     "metadata": {},
     "output_type": "execute_result"
    }
   ],
   "source": [
    "%%sql\n",
    "DELETE FROM user_actions;\n",
    "INSERT INTO user_actions VALUES\n",
    "('2018-07-01', 1209283021, 329482048384792 , 'view', NULL,1,2),\n",
    "('2018-07-01', 1209283021, 329482048384792 , 'like', NULL,1,2),\n",
    "('2018-07-01', 1938409273, 349573908750923 , 'reaction', 'LOVE',1,3),\n",
    "('2018-07-01', 1209283021, 329482048384792 , 'comment' , 'Such nice Raybans',1,3),\n",
    "('2018-07-01', 1238472931, 329482048384792 , 'report', 'SPAM',1,4),\n",
    "('2018-07-01', 1238712388, 328472938472087 , 'report', 'NUDITY',1,4),\n",
    "('2018-07-01', 1238712388, 329482048384792 , 'reshare', 'I wanted to share with you all',1,5);\n"
   ]
  },
  {
   "cell_type": "code",
   "execution_count": 48,
   "metadata": {
    "scrolled": false
   },
   "outputs": [
    {
     "name": "stdout",
     "output_type": "stream",
     "text": [
      " * sqlite://\n",
      "Done.\n",
      "Done.\n"
     ]
    },
    {
     "data": {
      "text/plain": [
       "[]"
      ]
     },
     "execution_count": 48,
     "metadata": {},
     "output_type": "execute_result"
    }
   ],
   "source": [
    "%%sql\n",
    "DROP TABLE IF EXISTS remove;\n",
    "CREATE TABLE  remove (post_id Integer,\n",
    "                          review_id Integer)"
   ]
  },
  {
   "cell_type": "markdown",
   "metadata": {},
   "source": [
    "Insert values"
   ]
  },
  {
   "cell_type": "code",
   "execution_count": 49,
   "metadata": {
    "scrolled": true
   },
   "outputs": [
    {
     "name": "stdout",
     "output_type": "stream",
     "text": [
      " * sqlite://\n",
      "0 rows affected.\n",
      "2 rows affected.\n"
     ]
    },
    {
     "data": {
      "text/plain": [
       "[]"
      ]
     },
     "execution_count": 49,
     "metadata": {},
     "output_type": "execute_result"
    }
   ],
   "source": [
    "%%sql\n",
    "DELETE FROM remove;\n",
    "INSERT INTO remove VALUES\n",
    "(329482048384792,1), (328472938472087,2)\n"
   ]
  },
  {
   "cell_type": "code",
   "execution_count": 27,
   "metadata": {},
   "outputs": [
    {
     "name": "stdout",
     "output_type": "stream",
     "text": [
      " * sqlite://\n",
      "Done.\n"
     ]
    },
    {
     "data": {
      "text/html": [
       "<table>\n",
       "    <tr>\n",
       "        <th>ds</th>\n",
       "        <th>user_id</th>\n",
       "        <th>post_id</th>\n",
       "        <th>action</th>\n",
       "        <th>extra</th>\n",
       "        <th>time_1</th>\n",
       "        <th>time_2</th>\n",
       "    </tr>\n",
       "    <tr>\n",
       "        <td>2018-07-01</td>\n",
       "        <td>1209283021</td>\n",
       "        <td>329482048384792</td>\n",
       "        <td>view</td>\n",
       "        <td>None</td>\n",
       "        <td>1</td>\n",
       "        <td>2</td>\n",
       "    </tr>\n",
       "    <tr>\n",
       "        <td>2018-07-01</td>\n",
       "        <td>1209283021</td>\n",
       "        <td>329482048384792</td>\n",
       "        <td>like</td>\n",
       "        <td>None</td>\n",
       "        <td>1</td>\n",
       "        <td>2</td>\n",
       "    </tr>\n",
       "    <tr>\n",
       "        <td>2018-07-01</td>\n",
       "        <td>1938409273</td>\n",
       "        <td>349573908750923</td>\n",
       "        <td>reaction</td>\n",
       "        <td>LOVE</td>\n",
       "        <td>1</td>\n",
       "        <td>3</td>\n",
       "    </tr>\n",
       "    <tr>\n",
       "        <td>2018-07-01</td>\n",
       "        <td>1209283021</td>\n",
       "        <td>329482048384792</td>\n",
       "        <td>comment</td>\n",
       "        <td>Such nice Raybans</td>\n",
       "        <td>1</td>\n",
       "        <td>3</td>\n",
       "    </tr>\n",
       "    <tr>\n",
       "        <td>2018-07-01</td>\n",
       "        <td>1238472931</td>\n",
       "        <td>329482048384792</td>\n",
       "        <td>report</td>\n",
       "        <td>SPAM</td>\n",
       "        <td>1</td>\n",
       "        <td>4</td>\n",
       "    </tr>\n",
       "    <tr>\n",
       "        <td>2018-07-01</td>\n",
       "        <td>1238712388</td>\n",
       "        <td>328472938472087</td>\n",
       "        <td>report</td>\n",
       "        <td>NUDITY</td>\n",
       "        <td>1</td>\n",
       "        <td>4</td>\n",
       "    </tr>\n",
       "    <tr>\n",
       "        <td>2018-07-01</td>\n",
       "        <td>1238712388</td>\n",
       "        <td>329482048384792</td>\n",
       "        <td>reshare</td>\n",
       "        <td>I wanted to share with you all</td>\n",
       "        <td>1</td>\n",
       "        <td>5</td>\n",
       "    </tr>\n",
       "</table>"
      ],
      "text/plain": [
       "[('2018-07-01', 1209283021, 329482048384792, 'view', None, 1, 2),\n",
       " ('2018-07-01', 1209283021, 329482048384792, 'like', None, 1, 2),\n",
       " ('2018-07-01', 1938409273, 349573908750923, 'reaction', 'LOVE', 1, 3),\n",
       " ('2018-07-01', 1209283021, 329482048384792, 'comment', 'Such nice Raybans', 1, 3),\n",
       " ('2018-07-01', 1238472931, 329482048384792, 'report', 'SPAM', 1, 4),\n",
       " ('2018-07-01', 1238712388, 328472938472087, 'report', 'NUDITY', 1, 4),\n",
       " ('2018-07-01', 1238712388, 329482048384792, 'reshare', 'I wanted to share with you all', 1, 5)]"
      ]
     },
     "execution_count": 27,
     "metadata": {},
     "output_type": "execute_result"
    }
   ],
   "source": [
    "%%sql\n",
    "select * from user_actions"
   ]
  },
  {
   "cell_type": "markdown",
   "metadata": {},
   "source": [
    "## Run query"
   ]
  },
  {
   "cell_type": "code",
   "execution_count": 45,
   "metadata": {},
   "outputs": [
    {
     "name": "stdout",
     "output_type": "stream",
     "text": [
      " * sqlite://\n",
      "Done.\n"
     ]
    },
    {
     "data": {
      "text/html": [
       "<table>\n",
       "    <tr>\n",
       "        <th>reason</th>\n",
       "        <th>COUNT(*)</th>\n",
       "    </tr>\n",
       "    <tr>\n",
       "        <td>NUDITY</td>\n",
       "        <td>1</td>\n",
       "    </tr>\n",
       "    <tr>\n",
       "        <td>SPAM</td>\n",
       "        <td>1</td>\n",
       "    </tr>\n",
       "</table>"
      ],
      "text/plain": [
       "[('NUDITY', 1), ('SPAM', 1)]"
      ]
     },
     "execution_count": 45,
     "metadata": {},
     "output_type": "execute_result"
    }
   ],
   "source": [
    "%%sql\n",
    "SELECT extra as reason, COUNT(*) FROM user_actions \n",
    "WHERE action = 'report'\n",
    "GROUP BY extra\n",
    "ORDER BY COUNT(*) DESC\n",
    "LIMIT 5"
   ]
  },
  {
   "cell_type": "code",
   "execution_count": 81,
   "metadata": {},
   "outputs": [
    {
     "name": "stdout",
     "output_type": "stream",
     "text": [
      " * sqlite://\n",
      "Done.\n"
     ]
    },
    {
     "data": {
      "text/html": [
       "<table>\n",
       "    <tr>\n",
       "        <th>user_id</th>\n",
       "        <th>p</th>\n",
       "    </tr>\n",
       "    <tr>\n",
       "        <td>1209283021</td>\n",
       "        <td>None</td>\n",
       "    </tr>\n",
       "    <tr>\n",
       "        <td>1238472931</td>\n",
       "        <td>1.0</td>\n",
       "    </tr>\n",
       "    <tr>\n",
       "        <td>1238712388</td>\n",
       "        <td>0.5</td>\n",
       "    </tr>\n",
       "    <tr>\n",
       "        <td>1938409273</td>\n",
       "        <td>None</td>\n",
       "    </tr>\n",
       "</table>"
      ],
      "text/plain": [
       "[(1209283021, None), (1238472931, 1.0), (1238712388, 0.5), (1938409273, None)]"
      ]
     },
     "execution_count": 81,
     "metadata": {},
     "output_type": "execute_result"
    }
   ],
   "source": [
    "%%sql\n",
    "SELECT t1.user_id, t2.num_report * 1.00 / t1.num_record as p FROM\n",
    "\n",
    "(select user_id, COUNT(*) as num_record FROM user_actions GROUP BY user_id) as t1\n",
    "LEFT JOIN \n",
    "(select user_id, COUNT(*) as num_report FROM user_actions WHERE action = 'report' GROUP BY user_id) as t2\n",
    "ON t1.user_id = t2.user_id"
   ]
  },
  {
   "cell_type": "code",
   "execution_count": 82,
   "metadata": {},
   "outputs": [
    {
     "name": "stdout",
     "output_type": "stream",
     "text": [
      " * sqlite://\n",
      "Done.\n"
     ]
    },
    {
     "data": {
      "text/html": [
       "<table>\n",
       "    <tr>\n",
       "        <th>avg_action</th>\n",
       "    </tr>\n",
       "    <tr>\n",
       "        <td>1.75</td>\n",
       "    </tr>\n",
       "</table>"
      ],
      "text/plain": [
       "[(1.75,)]"
      ]
     },
     "execution_count": 82,
     "metadata": {},
     "output_type": "execute_result"
    }
   ],
   "source": [
    "%%sql\n",
    "select sum(t1.num_unique_actions)*1.0/count(*) as avg_action from\n",
    "(SELECT ds, user_id, COUNT(DISTINCT action) as num_unique_actions from\n",
    "user_actions\n",
    "GROUP BY user_id, ds) as t1"
   ]
  },
  {
   "cell_type": "code",
   "execution_count": 83,
   "metadata": {},
   "outputs": [
    {
     "name": "stdout",
     "output_type": "stream",
     "text": [
      " * sqlite://\n",
      "Done.\n"
     ]
    },
    {
     "data": {
      "text/html": [
       "<table>\n",
       "    <tr>\n",
       "        <th>time_2-time_1</th>\n",
       "        <th>number_of_record</th>\n",
       "    </tr>\n",
       "    <tr>\n",
       "        <td>1</td>\n",
       "        <td>2</td>\n",
       "    </tr>\n",
       "    <tr>\n",
       "        <td>2</td>\n",
       "        <td>2</td>\n",
       "    </tr>\n",
       "    <tr>\n",
       "        <td>3</td>\n",
       "        <td>2</td>\n",
       "    </tr>\n",
       "    <tr>\n",
       "        <td>4</td>\n",
       "        <td>1</td>\n",
       "    </tr>\n",
       "</table>"
      ],
      "text/plain": [
       "[(1, 2), (2, 2), (3, 2), (4, 1)]"
      ]
     },
     "execution_count": 83,
     "metadata": {},
     "output_type": "execute_result"
    }
   ],
   "source": [
    "%%sql\n",
    "select time_2-time_1, count(*) as number_of_record from\n",
    "user_actions\n",
    "group by time_2-time_1"
   ]
  },
  {
   "cell_type": "code",
   "execution_count": 84,
   "metadata": {},
   "outputs": [
    {
     "name": "stdout",
     "output_type": "stream",
     "text": [
      " * sqlite://\n",
      "Done.\n"
     ]
    },
    {
     "data": {
      "text/html": [
       "<table>\n",
       "    <tr>\n",
       "        <th>DATE(&#x27;now&#x27;, &#x27;-1 days&#x27;)</th>\n",
       "    </tr>\n",
       "    <tr>\n",
       "        <td>2018-11-04</td>\n",
       "    </tr>\n",
       "</table>"
      ],
      "text/plain": [
       "[('2018-11-04',)]"
      ]
     },
     "execution_count": 84,
     "metadata": {},
     "output_type": "execute_result"
    }
   ],
   "source": [
    "%%sql\n",
    "SELECT DATE('now', '-1 days')"
   ]
  },
  {
   "cell_type": "code",
   "execution_count": 85,
   "metadata": {},
   "outputs": [
    {
     "name": "stdout",
     "output_type": "stream",
     "text": [
      " * sqlite://\n",
      "Done.\n"
     ]
    },
    {
     "data": {
      "text/html": [
       "<table>\n",
       "    <tr>\n",
       "        <th>count(*) * 1.0 / (select count(distinct post_id) from user_actions)</th>\n",
       "    </tr>\n",
       "    <tr>\n",
       "        <td>0.6666666666666666</td>\n",
       "    </tr>\n",
       "</table>"
      ],
      "text/plain": [
       "[(0.6666666666666666,)]"
      ]
     },
     "execution_count": 85,
     "metadata": {},
     "output_type": "execute_result"
    }
   ],
   "source": [
    "%%sql\n",
    "select \n",
    "count(*) * 1.0 / (select count(distinct post_id) from user_actions) from\n",
    "(select DISTINCT user_actions.post_id as id_1, remove.post_id as id_2\n",
    "FROM user_actions \n",
    "INNER JOIN remove\n",
    "on user_actions.post_id = remove.post_id) as t1\n"
   ]
  },
  {
   "cell_type": "code",
   "execution_count": 117,
   "metadata": {},
   "outputs": [
    {
     "name": "stdout",
     "output_type": "stream",
     "text": [
      " * sqlite://\n",
      "Done.\n"
     ]
    },
    {
     "data": {
      "text/html": [
       "<table>\n",
       "    <tr>\n",
       "        <th>post_id</th>\n",
       "        <th>count(*)</th>\n",
       "    </tr>\n",
       "    <tr>\n",
       "        <td>328472938472087</td>\n",
       "        <td>1</td>\n",
       "    </tr>\n",
       "    <tr>\n",
       "        <td>329482048384792</td>\n",
       "        <td>2</td>\n",
       "    </tr>\n",
       "</table>"
      ],
      "text/plain": [
       "[(328472938472087, 1), (329482048384792, 2)]"
      ]
     },
     "execution_count": 117,
     "metadata": {},
     "output_type": "execute_result"
    }
   ],
   "source": [
    "%%sql\n",
    "select a.post_id, count(*) from user_actions as a\n",
    "LEFT JOIN\n",
    "remove as b\n",
    "on a.post_id - b.post_id >=-1000000000\n",
    "where a.time_2=4 and b.review_id<3\n",
    "GROUP BY a.post_id"
   ]
  },
  {
   "cell_type": "code",
   "execution_count": 119,
   "metadata": {},
   "outputs": [
    {
     "name": "stdout",
     "output_type": "stream",
     "text": [
      " * sqlite://\n",
      "Done.\n"
     ]
    },
    {
     "data": {
      "text/html": [
       "<table>\n",
       "    <tr>\n",
       "        <th>sum(case when extra is null then 1 else 0 end)</th>\n",
       "    </tr>\n",
       "    <tr>\n",
       "        <td>2</td>\n",
       "    </tr>\n",
       "</table>"
      ],
      "text/plain": [
       "[(2,)]"
      ]
     },
     "execution_count": 119,
     "metadata": {},
     "output_type": "execute_result"
    }
   ],
   "source": [
    "%%sql\n",
    "select sum(case when extra is null then 1 else 0 end) from user_actions"
   ]
  },
  {
   "cell_type": "code",
   "execution_count": 124,
   "metadata": {},
   "outputs": [
    {
     "name": "stdout",
     "output_type": "stream",
     "text": [
      " * sqlite://\n",
      "Done.\n"
     ]
    },
    {
     "data": {
      "text/html": [
       "<table>\n",
       "    <tr>\n",
       "        <th>ds</th>\n",
       "        <th>user_id</th>\n",
       "        <th>post_id</th>\n",
       "        <th>action</th>\n",
       "        <th>extra</th>\n",
       "        <th>time_1</th>\n",
       "        <th>time_2</th>\n",
       "        <th>post_id_1</th>\n",
       "        <th>review_id</th>\n",
       "    </tr>\n",
       "    <tr>\n",
       "        <td>2018-07-01</td>\n",
       "        <td>1209283021</td>\n",
       "        <td>329482048384792</td>\n",
       "        <td>comment</td>\n",
       "        <td>Such nice Raybans</td>\n",
       "        <td>1</td>\n",
       "        <td>3</td>\n",
       "        <td>329482048384792</td>\n",
       "        <td>1</td>\n",
       "    </tr>\n",
       "    <tr>\n",
       "        <td>2018-07-01</td>\n",
       "        <td>1209283021</td>\n",
       "        <td>329482048384792</td>\n",
       "        <td>like</td>\n",
       "        <td>None</td>\n",
       "        <td>1</td>\n",
       "        <td>2</td>\n",
       "        <td>329482048384792</td>\n",
       "        <td>1</td>\n",
       "    </tr>\n",
       "    <tr>\n",
       "        <td>2018-07-01</td>\n",
       "        <td>1209283021</td>\n",
       "        <td>329482048384792</td>\n",
       "        <td>view</td>\n",
       "        <td>None</td>\n",
       "        <td>1</td>\n",
       "        <td>2</td>\n",
       "        <td>329482048384792</td>\n",
       "        <td>1</td>\n",
       "    </tr>\n",
       "    <tr>\n",
       "        <td>2018-07-01</td>\n",
       "        <td>1238472931</td>\n",
       "        <td>329482048384792</td>\n",
       "        <td>report</td>\n",
       "        <td>SPAM</td>\n",
       "        <td>1</td>\n",
       "        <td>4</td>\n",
       "        <td>329482048384792</td>\n",
       "        <td>1</td>\n",
       "    </tr>\n",
       "    <tr>\n",
       "        <td>2018-07-01</td>\n",
       "        <td>1238712388</td>\n",
       "        <td>329482048384792</td>\n",
       "        <td>reshare</td>\n",
       "        <td>I wanted to share with you all</td>\n",
       "        <td>1</td>\n",
       "        <td>5</td>\n",
       "        <td>329482048384792</td>\n",
       "        <td>1</td>\n",
       "    </tr>\n",
       "</table>"
      ],
      "text/plain": [
       "[('2018-07-01', 1209283021, 329482048384792, 'comment', 'Such nice Raybans', 1, 3, 329482048384792, 1),\n",
       " ('2018-07-01', 1209283021, 329482048384792, 'like', None, 1, 2, 329482048384792, 1),\n",
       " ('2018-07-01', 1209283021, 329482048384792, 'view', None, 1, 2, 329482048384792, 1),\n",
       " ('2018-07-01', 1238472931, 329482048384792, 'report', 'SPAM', 1, 4, 329482048384792, 1),\n",
       " ('2018-07-01', 1238712388, 329482048384792, 'reshare', 'I wanted to share with you all', 1, 5, 329482048384792, 1)]"
      ]
     },
     "execution_count": 124,
     "metadata": {},
     "output_type": "execute_result"
    }
   ],
   "source": [
    "%%sql\n",
    "select * from user_actions as a\n",
    "INNER JOIN\n",
    "remove as b\n",
    "on a.post_id = b.post_id and b.review_id=1 "
   ]
  },
  {
   "cell_type": "markdown",
   "metadata": {},
   "source": [
    "# Ads ROI"
   ]
  },
  {
   "cell_type": "code",
   "execution_count": 116,
   "metadata": {},
   "outputs": [
    {
     "name": "stdout",
     "output_type": "stream",
     "text": [
      " * sqlite://\n",
      "Done.\n",
      "Done.\n",
      "Done.\n",
      "Done.\n",
      "0 rows affected.\n",
      "4 rows affected.\n",
      "0 rows affected.\n",
      "4 rows affected.\n"
     ]
    },
    {
     "data": {
      "text/plain": [
       "[]"
      ]
     },
     "execution_count": 116,
     "metadata": {},
     "output_type": "execute_result"
    }
   ],
   "source": [
    "%%sql\n",
    "DROP TABLE IF EXISTS tableA;\n",
    "CREATE TABLE tableA (\n",
    "    date STRING,\n",
    "    adv_id STRING,\n",
    "    ad_id STRING,\n",
    "    spend INTEGER);\n",
    "DROP TABLE IF EXISTS tableB;\n",
    "CREATE TABLE tableB (\n",
    "    date STRING,\n",
    "    user_id STRING,\n",
    "    ad_id STRING,\n",
    "    user_spend INTEGER);\n",
    "\n",
    "DELETE FROM tableA;\n",
    "INSERT INTO tableA VALUES\n",
    "('2018-07-01', '1','1',5),\n",
    "('2018-07-01', '1','2',5),\n",
    "('2018-07-01', '2','3',5),\n",
    "('2018-07-01', '3','4',5);\n",
    "\n",
    "DELETE FROM tableB;\n",
    "INSERT INTO tableB VALUES\n",
    "('2018-07-01', '11','1',2),\n",
    "('2018-07-01', '11','2',2),\n",
    "('2018-07-01', '22','3',2),\n",
    "('2018-07-01', '33','3',2);"
   ]
  },
  {
   "cell_type": "markdown",
   "metadata": {},
   "source": [
    "***ROI for each ads(advertiser_id, ads_id, ROI)***"
   ]
  },
  {
   "cell_type": "markdown",
   "metadata": {},
   "source": [
    "- Left Join\n",
    "- Case when then when then else end"
   ]
  },
  {
   "cell_type": "code",
   "execution_count": 37,
   "metadata": {},
   "outputs": [
    {
     "name": "stdout",
     "output_type": "stream",
     "text": [
      " * sqlite://\n",
      "Done.\n"
     ]
    },
    {
     "data": {
      "text/html": [
       "<table>\n",
       "    <tr>\n",
       "        <th>adv_id</th>\n",
       "        <th>ad_id</th>\n",
       "        <th>roi</th>\n",
       "    </tr>\n",
       "    <tr>\n",
       "        <td>1</td>\n",
       "        <td>1</td>\n",
       "        <td>0.4</td>\n",
       "    </tr>\n",
       "    <tr>\n",
       "        <td>1</td>\n",
       "        <td>2</td>\n",
       "        <td>0.4</td>\n",
       "    </tr>\n",
       "    <tr>\n",
       "        <td>2</td>\n",
       "        <td>3</td>\n",
       "        <td>0.8</td>\n",
       "    </tr>\n",
       "    <tr>\n",
       "        <td>3</td>\n",
       "        <td>4</td>\n",
       "        <td>0.0</td>\n",
       "    </tr>\n",
       "</table>"
      ],
      "text/plain": [
       "[(1, 1, 0.4), (1, 2, 0.4), (2, 3, 0.8), (3, 4, 0.0)]"
      ]
     },
     "execution_count": 37,
     "metadata": {},
     "output_type": "execute_result"
    }
   ],
   "source": [
    "%%sql\n",
    "select tableA.adv_id, tableA.ad_id, \n",
    "    sum(case when tableB.user_spend is null then 0 else tableB.user_spend end) * 1.0 / avg(tableA.spend) as roi\n",
    "from tableA left join tableB on tableA.ad_id = tableB.ad_id\n",
    "group by tableA.adv_id, tableA.ad_id"
   ]
  },
  {
   "cell_type": "markdown",
   "metadata": {},
   "source": [
    "***percentage of advertiser who has at least one conversion***"
   ]
  },
  {
   "cell_type": "code",
   "execution_count": 40,
   "metadata": {},
   "outputs": [
    {
     "name": "stdout",
     "output_type": "stream",
     "text": [
      " * sqlite://\n",
      "Done.\n"
     ]
    },
    {
     "data": {
      "text/html": [
       "<table>\n",
       "    <tr>\n",
       "        <th>p</th>\n",
       "    </tr>\n",
       "    <tr>\n",
       "        <td>0.6666666666666666</td>\n",
       "    </tr>\n",
       "</table>"
      ],
      "text/plain": [
       "[(0.6666666666666666,)]"
      ]
     },
     "execution_count": 40,
     "metadata": {},
     "output_type": "execute_result"
    }
   ],
   "source": [
    "%%sql\n",
    "select count (distinct adv_id) * 1.0 / (select count (distinct adv_id) from tableA) as p \n",
    "from tableA inner join tableB on tableA.ad_id = tableB.ad_id\n"
   ]
  },
  {
   "cell_type": "markdown",
   "metadata": {},
   "source": [
    "# Song List"
   ]
  },
  {
   "cell_type": "markdown",
   "metadata": {},
   "source": [
    "time|userid|songid| table2: userid1|userid2\n",
    "问今天听的最频繁的歌曲是什么？寻找一个list有userid和friendid：两个朋友有多于两首共同听过的歌曲\n"
   ]
  },
  {
   "cell_type": "code",
   "execution_count": 44,
   "metadata": {},
   "outputs": [
    {
     "name": "stdout",
     "output_type": "stream",
     "text": [
      " * sqlite://\n",
      "Done.\n",
      "Done.\n",
      "Done.\n",
      "Done.\n",
      "0 rows affected.\n",
      "6 rows affected.\n",
      "0 rows affected.\n",
      "3 rows affected.\n"
     ]
    },
    {
     "data": {
      "text/plain": [
       "[]"
      ]
     },
     "execution_count": 44,
     "metadata": {},
     "output_type": "execute_result"
    }
   ],
   "source": [
    "%%sql\n",
    "DROP TABLE IF EXISTS tableA;\n",
    "CREATE TABLE tableA (\n",
    "    date STRING,\n",
    "    user_id STRING,\n",
    "    song_id STRING);\n",
    "\n",
    "DROP TABLE IF EXISTS tableB;\n",
    "CREATE TABLE tableB (\n",
    "   user_id1 STRING,\n",
    "   user_id2 STRING);\n",
    "\n",
    "DELETE FROM tableA;\n",
    "INSERT INTO tableA VALUES\n",
    "('2018-07-01', 'A','1'),\n",
    "('2018-07-01', 'A','2'),\n",
    "('2018-07-01', 'B','1'),\n",
    "('2018-07-01', 'B','2'),\n",
    "('2018-07-01', 'C','1'),\n",
    "('2018-07-01', 'C','3');\n",
    "\n",
    "DELETE FROM tableB;\n",
    "INSERT INTO tableB VALUES\n",
    "('A','B'),\n",
    "('A','C'),\n",
    "('B','C');"
   ]
  },
  {
   "cell_type": "code",
   "execution_count": 48,
   "metadata": {},
   "outputs": [
    {
     "name": "stdout",
     "output_type": "stream",
     "text": [
      " * sqlite://\n",
      "Done.\n"
     ]
    },
    {
     "data": {
      "text/html": [
       "<table>\n",
       "    <tr>\n",
       "        <th>user_id</th>\n",
       "        <th>user_id2</th>\n",
       "        <th>count(*)</th>\n",
       "    </tr>\n",
       "    <tr>\n",
       "        <td>A</td>\n",
       "        <td>B</td>\n",
       "        <td>2</td>\n",
       "    </tr>\n",
       "    <tr>\n",
       "        <td>A</td>\n",
       "        <td>C</td>\n",
       "        <td>2</td>\n",
       "    </tr>\n",
       "    <tr>\n",
       "        <td>B</td>\n",
       "        <td>C</td>\n",
       "        <td>2</td>\n",
       "    </tr>\n",
       "</table>"
      ],
      "text/plain": [
       "[('A', 'B', 2), ('A', 'C', 2), ('B', 'C', 2)]"
      ]
     },
     "execution_count": 48,
     "metadata": {},
     "output_type": "execute_result"
    }
   ],
   "source": [
    "%%sql\n",
    "select tableA.user_id, tableB.user_id2, count(*) from tableA inner join tableB on tableA.user_id = tableB.user_id1\n",
    "group by tableA.user_id, tableB.user_id2\n",
    "having count(*) >=2"
   ]
  },
  {
   "cell_type": "markdown",
   "metadata": {},
   "source": [
    "- Friend list: swap order and union to get complete ordered pairs"
   ]
  },
  {
   "cell_type": "code",
   "execution_count": 63,
   "metadata": {},
   "outputs": [
    {
     "name": "stdout",
     "output_type": "stream",
     "text": [
      " * sqlite://\n",
      "Done.\n"
     ]
    },
    {
     "data": {
      "text/html": [
       "<table>\n",
       "    <tr>\n",
       "        <th>user_id1</th>\n",
       "        <th>user_id2</th>\n",
       "        <th>date</th>\n",
       "        <th>user_id</th>\n",
       "        <th>song_id</th>\n",
       "    </tr>\n",
       "    <tr>\n",
       "        <td>A</td>\n",
       "        <td>B</td>\n",
       "        <td>2018-07-01</td>\n",
       "        <td>A</td>\n",
       "        <td>1</td>\n",
       "    </tr>\n",
       "    <tr>\n",
       "        <td>A</td>\n",
       "        <td>B</td>\n",
       "        <td>2018-07-01</td>\n",
       "        <td>A</td>\n",
       "        <td>2</td>\n",
       "    </tr>\n",
       "    <tr>\n",
       "        <td>A</td>\n",
       "        <td>C</td>\n",
       "        <td>2018-07-01</td>\n",
       "        <td>A</td>\n",
       "        <td>1</td>\n",
       "    </tr>\n",
       "</table>"
      ],
      "text/plain": [
       "[('A', 'B', '2018-07-01', 'A', 1),\n",
       " ('A', 'B', '2018-07-01', 'A', 2),\n",
       " ('A', 'C', '2018-07-01', 'A', 1)]"
      ]
     },
     "execution_count": 63,
     "metadata": {},
     "output_type": "execute_result"
    }
   ],
   "source": [
    "%%sql\n",
    "select * from \n",
    "(select user_id1, user_id2 from tableB\n",
    "UNION\n",
    "select user_id2 as user_id1, user_id1 as user_id2 from tableB) as all_all\n",
    "left join tableA on all_all.user_id1 = tableA.user_id\n",
    "limit 3"
   ]
  },
  {
   "cell_type": "markdown",
   "metadata": {},
   "source": [
    "# Last status"
   ]
  },
  {
   "cell_type": "code",
   "execution_count": 67,
   "metadata": {},
   "outputs": [
    {
     "name": "stdout",
     "output_type": "stream",
     "text": [
      " * sqlite://\n",
      "Done.\n",
      "Done.\n",
      "0 rows affected.\n",
      "6 rows affected.\n"
     ]
    },
    {
     "data": {
      "text/plain": [
       "[]"
      ]
     },
     "execution_count": 67,
     "metadata": {},
     "output_type": "execute_result"
    }
   ],
   "source": [
    "%%sql\n",
    "DROP TABLE IF EXISTS tableA;\n",
    "CREATE TABLE tableA(\n",
    "    date STRING,\n",
    "    time STRING,\n",
    "    user_id STRING,\n",
    "    action STRING);\n",
    "\n",
    "DELETE FROM tableA;\n",
    "INSERT INTO tableA VALUES\n",
    "('2018-07-01', '12','1','on'),\n",
    "('2018-07-01', '13','1','off'),\n",
    "('2018-07-02', '11','1','off'),\n",
    "('2018-07-02', '12','1','on'),\n",
    "('2018-07-02', '13','2','off'),\n",
    "('2018-07-02', '14','3','on');"
   ]
  },
  {
   "cell_type": "markdown",
   "metadata": {},
   "source": [
    "- Write max over subgroup without using window function"
   ]
  },
  {
   "cell_type": "code",
   "execution_count": 73,
   "metadata": {},
   "outputs": [
    {
     "name": "stdout",
     "output_type": "stream",
     "text": [
      " * sqlite://\n",
      "Done.\n"
     ]
    },
    {
     "data": {
      "text/html": [
       "<table>\n",
       "    <tr>\n",
       "        <th>date</th>\n",
       "        <th>user_id</th>\n",
       "        <th>action</th>\n",
       "    </tr>\n",
       "    <tr>\n",
       "        <td>2018-07-01</td>\n",
       "        <td>1</td>\n",
       "        <td>off</td>\n",
       "    </tr>\n",
       "    <tr>\n",
       "        <td>2018-07-02</td>\n",
       "        <td>1</td>\n",
       "        <td>on</td>\n",
       "    </tr>\n",
       "    <tr>\n",
       "        <td>2018-07-02</td>\n",
       "        <td>2</td>\n",
       "        <td>off</td>\n",
       "    </tr>\n",
       "    <tr>\n",
       "        <td>2018-07-02</td>\n",
       "        <td>3</td>\n",
       "        <td>on</td>\n",
       "    </tr>\n",
       "</table>"
      ],
      "text/plain": [
       "[('2018-07-01', 1, 'off'),\n",
       " ('2018-07-02', 1, 'on'),\n",
       " ('2018-07-02', 2, 'off'),\n",
       " ('2018-07-02', 3, 'on')]"
      ]
     },
     "execution_count": 73,
     "metadata": {},
     "output_type": "execute_result"
    }
   ],
   "source": [
    "%%sql\n",
    "select a.date, a.user_id, a.action\n",
    "from tableA as a\n",
    "left join tableA as b\n",
    "on a.date = b.date and a.user_id = b.user_id and a.time < b.time\n",
    "where b.time is null"
   ]
  },
  {
   "cell_type": "markdown",
   "metadata": {},
   "source": [
    "- Insert into table by select"
   ]
  },
  {
   "cell_type": "code",
   "execution_count": 78,
   "metadata": {},
   "outputs": [
    {
     "name": "stdout",
     "output_type": "stream",
     "text": [
      " * sqlite://\n",
      "13 rows affected.\n",
      "Done.\n"
     ]
    },
    {
     "data": {
      "text/html": [
       "<table>\n",
       "    <tr>\n",
       "        <th>date</th>\n",
       "        <th>time</th>\n",
       "        <th>user_id</th>\n",
       "        <th>action</th>\n",
       "    </tr>\n",
       "    <tr>\n",
       "        <td>2018-07-01</td>\n",
       "        <td>12</td>\n",
       "        <td>1</td>\n",
       "        <td>on</td>\n",
       "    </tr>\n",
       "</table>"
      ],
      "text/plain": [
       "[('2018-07-01', 12, 1, 'on')]"
      ]
     },
     "execution_count": 78,
     "metadata": {},
     "output_type": "execute_result"
    }
   ],
   "source": [
    "%%sql\n",
    "INSERT into tableA\n",
    "select * from tableA;\n",
    "\n",
    "select * from tableA limit 1;"
   ]
  },
  {
   "cell_type": "markdown",
   "metadata": {},
   "source": [
    "# Comment distribution\n"
   ]
  },
  {
   "cell_type": "code",
   "execution_count": 92,
   "metadata": {},
   "outputs": [
    {
     "name": "stdout",
     "output_type": "stream",
     "text": [
      " * sqlite://\n",
      "Done.\n",
      "Done.\n",
      "0 rows affected.\n",
      "7 rows affected.\n"
     ]
    },
    {
     "data": {
      "text/plain": [
       "[]"
      ]
     },
     "execution_count": 92,
     "metadata": {},
     "output_type": "execute_result"
    }
   ],
   "source": [
    "%%sql\n",
    "DROP TABLE IF EXISTS tableA;\n",
    "CREATE TABLE tableA(\n",
    "    content_id STRING,\n",
    "    content_type STRING,\n",
    "    target_id STRING);\n",
    "\n",
    "DELETE FROM tableA;\n",
    "INSERT INTO tableA VALUES\n",
    "('1','POST',NULL),\n",
    "('2','COMMENT',1),\n",
    "('3','COMMENT',1),\n",
    "('4','POST',NULL),\n",
    "('5','COMMENT',4),\n",
    "('6','POST',NULL),\n",
    "('7','POST',NULL)"
   ]
  },
  {
   "cell_type": "markdown",
   "metadata": {},
   "source": [
    "Note: `where a.content_type = 'POST'`"
   ]
  },
  {
   "cell_type": "code",
   "execution_count": 93,
   "metadata": {},
   "outputs": [
    {
     "name": "stdout",
     "output_type": "stream",
     "text": [
      " * sqlite://\n",
      "Done.\n"
     ]
    },
    {
     "data": {
      "text/html": [
       "<table>\n",
       "    <tr>\n",
       "        <th>num_comments</th>\n",
       "        <th>num_posts</th>\n",
       "    </tr>\n",
       "    <tr>\n",
       "        <td>0</td>\n",
       "        <td>2</td>\n",
       "    </tr>\n",
       "    <tr>\n",
       "        <td>1</td>\n",
       "        <td>1</td>\n",
       "    </tr>\n",
       "    <tr>\n",
       "        <td>2</td>\n",
       "        <td>1</td>\n",
       "    </tr>\n",
       "</table>"
      ],
      "text/plain": [
       "[(0, 2), (1, 1), (2, 1)]"
      ]
     },
     "execution_count": 93,
     "metadata": {},
     "output_type": "execute_result"
    }
   ],
   "source": [
    "%%sql\n",
    "select num_comments, count(*) as num_posts from\n",
    "(   select a.content_id, sum(case when b.target_id is not null then 1 else 0 end) as num_comments\n",
    "    from tableA as a\n",
    "    left join tableA as b\n",
    "    on b.content_type = 'COMMENT' and a.content_id = b.target_id\n",
    "    where a.content_type = 'POST'\n",
    "    group by a.content_id\n",
    ") \n",
    "group by num_comments"
   ]
  },
  {
   "cell_type": "markdown",
   "metadata": {},
   "source": [
    "# Click Through Rate"
   ]
  },
  {
   "cell_type": "code",
   "execution_count": 98,
   "metadata": {},
   "outputs": [
    {
     "name": "stdout",
     "output_type": "stream",
     "text": [
      " * sqlite://\n",
      "Done.\n",
      "Done.\n",
      "0 rows affected.\n",
      "6 rows affected.\n"
     ]
    },
    {
     "data": {
      "text/plain": [
       "[]"
      ]
     },
     "execution_count": 98,
     "metadata": {},
     "output_type": "execute_result"
    }
   ],
   "source": [
    "%%sql\n",
    "DROP TABLE IF EXISTS tableA;\n",
    "CREATE TABLE tableA(\n",
    "    user_id STRING,\n",
    "    event STRING);\n",
    "\n",
    "DELETE FROM tableA;\n",
    "INSERT INTO tableA VALUES\n",
    "('1','CLICK'),\n",
    "('2','IMPRESSION'),\n",
    "('3','CLICK'),\n",
    "('4','IMPRESSION'),\n",
    "('5','CLICK'),\n",
    "('6','IMPRESSION');"
   ]
  },
  {
   "cell_type": "code",
   "execution_count": 107,
   "metadata": {},
   "outputs": [
    {
     "name": "stdout",
     "output_type": "stream",
     "text": [
      " * sqlite://\n",
      "Done.\n"
     ]
    },
    {
     "data": {
      "text/html": [
       "<table>\n",
       "    <tr>\n",
       "        <th>num_click</th>\n",
       "        <th>num_events</th>\n",
       "    </tr>\n",
       "    <tr>\n",
       "        <td>6</td>\n",
       "        <td>6</td>\n",
       "    </tr>\n",
       "</table>"
      ],
      "text/plain": [
       "[(6, 6)]"
      ]
     },
     "execution_count": 107,
     "metadata": {},
     "output_type": "execute_result"
    }
   ],
   "source": [
    "%%sql\n",
    "select count(case when event = 'CLICK' then 1 else 0 end) as num_click,\n",
    "count(*) as num_events from tableA"
   ]
  },
  {
   "cell_type": "markdown",
   "metadata": {},
   "source": [
    "# People Interaction "
   ]
  },
  {
   "cell_type": "code",
   "execution_count": 108,
   "metadata": {},
   "outputs": [
    {
     "name": "stdout",
     "output_type": "stream",
     "text": [
      " * sqlite://\n",
      "Done.\n",
      "Done.\n",
      "0 rows affected.\n",
      "4 rows affected.\n"
     ]
    },
    {
     "data": {
      "text/plain": [
       "[]"
      ]
     },
     "execution_count": 108,
     "metadata": {},
     "output_type": "execute_result"
    }
   ],
   "source": [
    "%%sql\n",
    "DROP TABLE IF EXISTS tableA;\n",
    "CREATE TABLE tableA(\n",
    "    id_1 INTEGER,\n",
    "    id_2 INTEGER);\n",
    "\n",
    "DELETE FROM tableA;\n",
    "INSERT INTO tableA VALUES\n",
    "(1,3),\n",
    "(1,4),\n",
    "(2,3),\n",
    "(2,5);"
   ]
  },
  {
   "cell_type": "markdown",
   "metadata": {},
   "source": [
    "Group by num of interactions"
   ]
  },
  {
   "cell_type": "code",
   "execution_count": 109,
   "metadata": {},
   "outputs": [
    {
     "name": "stdout",
     "output_type": "stream",
     "text": [
      " * sqlite://\n",
      "Done.\n"
     ]
    },
    {
     "data": {
      "text/html": [
       "<table>\n",
       "    <tr>\n",
       "        <th>num_interactions</th>\n",
       "        <th>freq</th>\n",
       "    </tr>\n",
       "    <tr>\n",
       "        <td>1</td>\n",
       "        <td>2</td>\n",
       "    </tr>\n",
       "    <tr>\n",
       "        <td>2</td>\n",
       "        <td>3</td>\n",
       "    </tr>\n",
       "</table>"
      ],
      "text/plain": [
       "[(1, 2), (2, 3)]"
      ]
     },
     "execution_count": 109,
     "metadata": {},
     "output_type": "execute_result"
    }
   ],
   "source": [
    "%%sql\n",
    "select num_interactions, count(*) as freq from\n",
    "(    select id_1 as id, count(*) as num_interactions from\n",
    "        (select * from tableA\n",
    "        UNION ALL\n",
    "        select id_2 as id_1, id_1 as id_2 from tableA\n",
    "        )\n",
    "    group by id_1\n",
    ")\n",
    "group by num_interactions"
   ]
  },
  {
   "cell_type": "code",
   "execution_count": null,
   "metadata": {},
   "outputs": [],
   "source": []
  }
 ],
 "metadata": {
  "kernelspec": {
   "display_name": "Python [conda env:anaconda3]",
   "language": "python",
   "name": "conda-env-anaconda3-py"
  },
  "language_info": {
   "codemirror_mode": {
    "name": "ipython",
    "version": 3
   },
   "file_extension": ".py",
   "mimetype": "text/x-python",
   "name": "python",
   "nbconvert_exporter": "python",
   "pygments_lexer": "ipython3",
   "version": "3.6.5"
  },
  "toc": {
   "base_numbering": 1,
   "nav_menu": {},
   "number_sections": true,
   "sideBar": true,
   "skip_h1_title": false,
   "title_cell": "Table of Contents",
   "title_sidebar": "Contents",
   "toc_cell": false,
   "toc_position": {
    "height": "calc(100% - 180px)",
    "left": "10px",
    "top": "150px",
    "width": "169px"
   },
   "toc_section_display": true,
   "toc_window_display": false
  }
 },
 "nbformat": 4,
 "nbformat_minor": 2
}
