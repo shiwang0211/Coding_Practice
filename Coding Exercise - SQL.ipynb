{
 "cells": [
  {
   "cell_type": "markdown",
   "metadata": {},
   "source": [
    "# Question 1 - SQL\n"
   ]
  },
  {
   "cell_type": "code",
   "execution_count": 1,
   "metadata": {},
   "outputs": [],
   "source": [
    "%load_ext sql"
   ]
  },
  {
   "cell_type": "code",
   "execution_count": 2,
   "metadata": {},
   "outputs": [
    {
     "data": {
      "text/plain": [
       "'Connected: @None'"
      ]
     },
     "execution_count": 2,
     "metadata": {},
     "output_type": "execute_result"
    }
   ],
   "source": [
    "%sql sqlite://"
   ]
  },
  {
   "cell_type": "markdown",
   "metadata": {},
   "source": [
    "## Prepare"
   ]
  },
  {
   "cell_type": "markdown",
   "metadata": {},
   "source": [
    "Create Table"
   ]
  },
  {
   "cell_type": "code",
   "execution_count": 25,
   "metadata": {
    "scrolled": false
   },
   "outputs": [
    {
     "name": "stdout",
     "output_type": "stream",
     "text": [
      " * sqlite://\n",
      "Done.\n",
      "Done.\n"
     ]
    },
    {
     "data": {
      "text/plain": [
       "[]"
      ]
     },
     "execution_count": 25,
     "metadata": {},
     "output_type": "execute_result"
    }
   ],
   "source": [
    "%%sql\n",
    "DROP TABLE IF EXISTS user_actions;\n",
    "CREATE TABLE user_actions (ds String,\n",
    "                           user_id Integer,\n",
    "                           post_id Integer,\n",
    "                           action String,\n",
    "                           extra String,\n",
    "                          time_1 Integer,\n",
    "                          time_2 Integer)"
   ]
  },
  {
   "cell_type": "markdown",
   "metadata": {},
   "source": [
    "Insert values"
   ]
  },
  {
   "cell_type": "code",
   "execution_count": 26,
   "metadata": {},
   "outputs": [
    {
     "name": "stdout",
     "output_type": "stream",
     "text": [
      " * sqlite://\n",
      "0 rows affected.\n",
      "7 rows affected.\n"
     ]
    },
    {
     "data": {
      "text/plain": [
       "[]"
      ]
     },
     "execution_count": 26,
     "metadata": {},
     "output_type": "execute_result"
    }
   ],
   "source": [
    "%%sql\n",
    "DELETE FROM user_actions;\n",
    "INSERT INTO user_actions VALUES\n",
    "('2018-07-01', 1209283021, 329482048384792 , 'view', NULL,1,2),\n",
    "('2018-07-01', 1209283021, 329482048384792 , 'like', NULL,1,2),\n",
    "('2018-07-01', 1938409273, 349573908750923 , 'reaction', 'LOVE',1,3),\n",
    "('2018-07-01', 1209283021, 329482048384792 , 'comment' , 'Such nice Raybans',1,3),\n",
    "('2018-07-01', 1238472931, 329482048384792 , 'report', 'SPAM',1,4),\n",
    "('2018-07-01', 1238712388, 328472938472087 , 'report', 'NUDITY',1,4),\n",
    "('2018-07-01', 1238712388, 329482048384792 , 'reshare', 'I wanted to share with you all',1,5);\n"
   ]
  },
  {
   "cell_type": "code",
   "execution_count": 48,
   "metadata": {
    "scrolled": false
   },
   "outputs": [
    {
     "name": "stdout",
     "output_type": "stream",
     "text": [
      " * sqlite://\n",
      "Done.\n",
      "Done.\n"
     ]
    },
    {
     "data": {
      "text/plain": [
       "[]"
      ]
     },
     "execution_count": 48,
     "metadata": {},
     "output_type": "execute_result"
    }
   ],
   "source": [
    "%%sql\n",
    "DROP TABLE IF EXISTS remove;\n",
    "CREATE TABLE  remove (post_id Integer,\n",
    "                          review_id Integer)"
   ]
  },
  {
   "cell_type": "markdown",
   "metadata": {},
   "source": [
    "Insert values"
   ]
  },
  {
   "cell_type": "code",
   "execution_count": 49,
   "metadata": {
    "scrolled": true
   },
   "outputs": [
    {
     "name": "stdout",
     "output_type": "stream",
     "text": [
      " * sqlite://\n",
      "0 rows affected.\n",
      "2 rows affected.\n"
     ]
    },
    {
     "data": {
      "text/plain": [
       "[]"
      ]
     },
     "execution_count": 49,
     "metadata": {},
     "output_type": "execute_result"
    }
   ],
   "source": [
    "%%sql\n",
    "DELETE FROM remove;\n",
    "INSERT INTO remove VALUES\n",
    "(329482048384792,1), (328472938472087,2)\n"
   ]
  },
  {
   "cell_type": "code",
   "execution_count": 27,
   "metadata": {},
   "outputs": [
    {
     "name": "stdout",
     "output_type": "stream",
     "text": [
      " * sqlite://\n",
      "Done.\n"
     ]
    },
    {
     "data": {
      "text/html": [
       "<table>\n",
       "    <tr>\n",
       "        <th>ds</th>\n",
       "        <th>user_id</th>\n",
       "        <th>post_id</th>\n",
       "        <th>action</th>\n",
       "        <th>extra</th>\n",
       "        <th>time_1</th>\n",
       "        <th>time_2</th>\n",
       "    </tr>\n",
       "    <tr>\n",
       "        <td>2018-07-01</td>\n",
       "        <td>1209283021</td>\n",
       "        <td>329482048384792</td>\n",
       "        <td>view</td>\n",
       "        <td>None</td>\n",
       "        <td>1</td>\n",
       "        <td>2</td>\n",
       "    </tr>\n",
       "    <tr>\n",
       "        <td>2018-07-01</td>\n",
       "        <td>1209283021</td>\n",
       "        <td>329482048384792</td>\n",
       "        <td>like</td>\n",
       "        <td>None</td>\n",
       "        <td>1</td>\n",
       "        <td>2</td>\n",
       "    </tr>\n",
       "    <tr>\n",
       "        <td>2018-07-01</td>\n",
       "        <td>1938409273</td>\n",
       "        <td>349573908750923</td>\n",
       "        <td>reaction</td>\n",
       "        <td>LOVE</td>\n",
       "        <td>1</td>\n",
       "        <td>3</td>\n",
       "    </tr>\n",
       "    <tr>\n",
       "        <td>2018-07-01</td>\n",
       "        <td>1209283021</td>\n",
       "        <td>329482048384792</td>\n",
       "        <td>comment</td>\n",
       "        <td>Such nice Raybans</td>\n",
       "        <td>1</td>\n",
       "        <td>3</td>\n",
       "    </tr>\n",
       "    <tr>\n",
       "        <td>2018-07-01</td>\n",
       "        <td>1238472931</td>\n",
       "        <td>329482048384792</td>\n",
       "        <td>report</td>\n",
       "        <td>SPAM</td>\n",
       "        <td>1</td>\n",
       "        <td>4</td>\n",
       "    </tr>\n",
       "    <tr>\n",
       "        <td>2018-07-01</td>\n",
       "        <td>1238712388</td>\n",
       "        <td>328472938472087</td>\n",
       "        <td>report</td>\n",
       "        <td>NUDITY</td>\n",
       "        <td>1</td>\n",
       "        <td>4</td>\n",
       "    </tr>\n",
       "    <tr>\n",
       "        <td>2018-07-01</td>\n",
       "        <td>1238712388</td>\n",
       "        <td>329482048384792</td>\n",
       "        <td>reshare</td>\n",
       "        <td>I wanted to share with you all</td>\n",
       "        <td>1</td>\n",
       "        <td>5</td>\n",
       "    </tr>\n",
       "</table>"
      ],
      "text/plain": [
       "[('2018-07-01', 1209283021, 329482048384792, 'view', None, 1, 2),\n",
       " ('2018-07-01', 1209283021, 329482048384792, 'like', None, 1, 2),\n",
       " ('2018-07-01', 1938409273, 349573908750923, 'reaction', 'LOVE', 1, 3),\n",
       " ('2018-07-01', 1209283021, 329482048384792, 'comment', 'Such nice Raybans', 1, 3),\n",
       " ('2018-07-01', 1238472931, 329482048384792, 'report', 'SPAM', 1, 4),\n",
       " ('2018-07-01', 1238712388, 328472938472087, 'report', 'NUDITY', 1, 4),\n",
       " ('2018-07-01', 1238712388, 329482048384792, 'reshare', 'I wanted to share with you all', 1, 5)]"
      ]
     },
     "execution_count": 27,
     "metadata": {},
     "output_type": "execute_result"
    }
   ],
   "source": [
    "%%sql\n",
    "select * from user_actions"
   ]
  },
  {
   "cell_type": "markdown",
   "metadata": {},
   "source": [
    "## Run query"
   ]
  },
  {
   "cell_type": "code",
   "execution_count": 45,
   "metadata": {},
   "outputs": [
    {
     "name": "stdout",
     "output_type": "stream",
     "text": [
      " * sqlite://\n",
      "Done.\n"
     ]
    },
    {
     "data": {
      "text/html": [
       "<table>\n",
       "    <tr>\n",
       "        <th>reason</th>\n",
       "        <th>COUNT(*)</th>\n",
       "    </tr>\n",
       "    <tr>\n",
       "        <td>NUDITY</td>\n",
       "        <td>1</td>\n",
       "    </tr>\n",
       "    <tr>\n",
       "        <td>SPAM</td>\n",
       "        <td>1</td>\n",
       "    </tr>\n",
       "</table>"
      ],
      "text/plain": [
       "[('NUDITY', 1), ('SPAM', 1)]"
      ]
     },
     "execution_count": 45,
     "metadata": {},
     "output_type": "execute_result"
    }
   ],
   "source": [
    "%%sql\n",
    "SELECT extra as reason, COUNT(*) FROM user_actions \n",
    "WHERE action = 'report'\n",
    "GROUP BY extra\n",
    "ORDER BY COUNT(*) DESC\n",
    "LIMIT 5"
   ]
  },
  {
   "cell_type": "code",
   "execution_count": 81,
   "metadata": {},
   "outputs": [
    {
     "name": "stdout",
     "output_type": "stream",
     "text": [
      " * sqlite://\n",
      "Done.\n"
     ]
    },
    {
     "data": {
      "text/html": [
       "<table>\n",
       "    <tr>\n",
       "        <th>user_id</th>\n",
       "        <th>p</th>\n",
       "    </tr>\n",
       "    <tr>\n",
       "        <td>1209283021</td>\n",
       "        <td>None</td>\n",
       "    </tr>\n",
       "    <tr>\n",
       "        <td>1238472931</td>\n",
       "        <td>1.0</td>\n",
       "    </tr>\n",
       "    <tr>\n",
       "        <td>1238712388</td>\n",
       "        <td>0.5</td>\n",
       "    </tr>\n",
       "    <tr>\n",
       "        <td>1938409273</td>\n",
       "        <td>None</td>\n",
       "    </tr>\n",
       "</table>"
      ],
      "text/plain": [
       "[(1209283021, None), (1238472931, 1.0), (1238712388, 0.5), (1938409273, None)]"
      ]
     },
     "execution_count": 81,
     "metadata": {},
     "output_type": "execute_result"
    }
   ],
   "source": [
    "%%sql\n",
    "SELECT t1.user_id, t2.num_report * 1.00 / t1.num_record as p FROM\n",
    "\n",
    "(select user_id, COUNT(*) as num_record FROM user_actions GROUP BY user_id) as t1\n",
    "LEFT JOIN \n",
    "(select user_id, COUNT(*) as num_report FROM user_actions WHERE action = 'report' GROUP BY user_id) as t2\n",
    "ON t1.user_id = t2.user_id"
   ]
  },
  {
   "cell_type": "code",
   "execution_count": 82,
   "metadata": {},
   "outputs": [
    {
     "name": "stdout",
     "output_type": "stream",
     "text": [
      " * sqlite://\n",
      "Done.\n"
     ]
    },
    {
     "data": {
      "text/html": [
       "<table>\n",
       "    <tr>\n",
       "        <th>avg_action</th>\n",
       "    </tr>\n",
       "    <tr>\n",
       "        <td>1.75</td>\n",
       "    </tr>\n",
       "</table>"
      ],
      "text/plain": [
       "[(1.75,)]"
      ]
     },
     "execution_count": 82,
     "metadata": {},
     "output_type": "execute_result"
    }
   ],
   "source": [
    "%%sql\n",
    "select sum(t1.num_unique_actions)*1.0/count(*) as avg_action from\n",
    "(SELECT ds, user_id, COUNT(DISTINCT action) as num_unique_actions from\n",
    "user_actions\n",
    "GROUP BY user_id, ds) as t1"
   ]
  },
  {
   "cell_type": "code",
   "execution_count": 83,
   "metadata": {},
   "outputs": [
    {
     "name": "stdout",
     "output_type": "stream",
     "text": [
      " * sqlite://\n",
      "Done.\n"
     ]
    },
    {
     "data": {
      "text/html": [
       "<table>\n",
       "    <tr>\n",
       "        <th>time_2-time_1</th>\n",
       "        <th>number_of_record</th>\n",
       "    </tr>\n",
       "    <tr>\n",
       "        <td>1</td>\n",
       "        <td>2</td>\n",
       "    </tr>\n",
       "    <tr>\n",
       "        <td>2</td>\n",
       "        <td>2</td>\n",
       "    </tr>\n",
       "    <tr>\n",
       "        <td>3</td>\n",
       "        <td>2</td>\n",
       "    </tr>\n",
       "    <tr>\n",
       "        <td>4</td>\n",
       "        <td>1</td>\n",
       "    </tr>\n",
       "</table>"
      ],
      "text/plain": [
       "[(1, 2), (2, 2), (3, 2), (4, 1)]"
      ]
     },
     "execution_count": 83,
     "metadata": {},
     "output_type": "execute_result"
    }
   ],
   "source": [
    "%%sql\n",
    "select time_2-time_1, count(*) as number_of_record from\n",
    "user_actions\n",
    "group by time_2-time_1"
   ]
  },
  {
   "cell_type": "code",
   "execution_count": 84,
   "metadata": {},
   "outputs": [
    {
     "name": "stdout",
     "output_type": "stream",
     "text": [
      " * sqlite://\n",
      "Done.\n"
     ]
    },
    {
     "data": {
      "text/html": [
       "<table>\n",
       "    <tr>\n",
       "        <th>DATE(&#x27;now&#x27;, &#x27;-1 days&#x27;)</th>\n",
       "    </tr>\n",
       "    <tr>\n",
       "        <td>2018-11-04</td>\n",
       "    </tr>\n",
       "</table>"
      ],
      "text/plain": [
       "[('2018-11-04',)]"
      ]
     },
     "execution_count": 84,
     "metadata": {},
     "output_type": "execute_result"
    }
   ],
   "source": [
    "%%sql\n",
    "SELECT DATE('now', '-1 days')"
   ]
  },
  {
   "cell_type": "code",
   "execution_count": 85,
   "metadata": {},
   "outputs": [
    {
     "name": "stdout",
     "output_type": "stream",
     "text": [
      " * sqlite://\n",
      "Done.\n"
     ]
    },
    {
     "data": {
      "text/html": [
       "<table>\n",
       "    <tr>\n",
       "        <th>count(*) * 1.0 / (select count(distinct post_id) from user_actions)</th>\n",
       "    </tr>\n",
       "    <tr>\n",
       "        <td>0.6666666666666666</td>\n",
       "    </tr>\n",
       "</table>"
      ],
      "text/plain": [
       "[(0.6666666666666666,)]"
      ]
     },
     "execution_count": 85,
     "metadata": {},
     "output_type": "execute_result"
    }
   ],
   "source": [
    "%%sql\n",
    "select \n",
    "count(*) * 1.0 / (select count(distinct post_id) from user_actions) from\n",
    "(select DISTINCT user_actions.post_id as id_1, remove.post_id as id_2\n",
    "FROM user_actions \n",
    "INNER JOIN remove\n",
    "on user_actions.post_id = remove.post_id) as t1\n"
   ]
  },
  {
   "cell_type": "code",
   "execution_count": 117,
   "metadata": {},
   "outputs": [
    {
     "name": "stdout",
     "output_type": "stream",
     "text": [
      " * sqlite://\n",
      "Done.\n"
     ]
    },
    {
     "data": {
      "text/html": [
       "<table>\n",
       "    <tr>\n",
       "        <th>post_id</th>\n",
       "        <th>count(*)</th>\n",
       "    </tr>\n",
       "    <tr>\n",
       "        <td>328472938472087</td>\n",
       "        <td>1</td>\n",
       "    </tr>\n",
       "    <tr>\n",
       "        <td>329482048384792</td>\n",
       "        <td>2</td>\n",
       "    </tr>\n",
       "</table>"
      ],
      "text/plain": [
       "[(328472938472087, 1), (329482048384792, 2)]"
      ]
     },
     "execution_count": 117,
     "metadata": {},
     "output_type": "execute_result"
    }
   ],
   "source": [
    "%%sql\n",
    "select a.post_id, count(*) from user_actions as a\n",
    "LEFT JOIN\n",
    "remove as b\n",
    "on a.post_id - b.post_id >=-1000000000\n",
    "where a.time_2=4 and b.review_id<3\n",
    "GROUP BY a.post_id"
   ]
  },
  {
   "cell_type": "code",
   "execution_count": 119,
   "metadata": {},
   "outputs": [
    {
     "name": "stdout",
     "output_type": "stream",
     "text": [
      " * sqlite://\n",
      "Done.\n"
     ]
    },
    {
     "data": {
      "text/html": [
       "<table>\n",
       "    <tr>\n",
       "        <th>sum(case when extra is null then 1 else 0 end)</th>\n",
       "    </tr>\n",
       "    <tr>\n",
       "        <td>2</td>\n",
       "    </tr>\n",
       "</table>"
      ],
      "text/plain": [
       "[(2,)]"
      ]
     },
     "execution_count": 119,
     "metadata": {},
     "output_type": "execute_result"
    }
   ],
   "source": [
    "%%sql\n",
    "select sum(case when extra is null then 1 else 0 end) from user_actions"
   ]
  },
  {
   "cell_type": "code",
   "execution_count": 124,
   "metadata": {},
   "outputs": [
    {
     "name": "stdout",
     "output_type": "stream",
     "text": [
      " * sqlite://\n",
      "Done.\n"
     ]
    },
    {
     "data": {
      "text/html": [
       "<table>\n",
       "    <tr>\n",
       "        <th>ds</th>\n",
       "        <th>user_id</th>\n",
       "        <th>post_id</th>\n",
       "        <th>action</th>\n",
       "        <th>extra</th>\n",
       "        <th>time_1</th>\n",
       "        <th>time_2</th>\n",
       "        <th>post_id_1</th>\n",
       "        <th>review_id</th>\n",
       "    </tr>\n",
       "    <tr>\n",
       "        <td>2018-07-01</td>\n",
       "        <td>1209283021</td>\n",
       "        <td>329482048384792</td>\n",
       "        <td>comment</td>\n",
       "        <td>Such nice Raybans</td>\n",
       "        <td>1</td>\n",
       "        <td>3</td>\n",
       "        <td>329482048384792</td>\n",
       "        <td>1</td>\n",
       "    </tr>\n",
       "    <tr>\n",
       "        <td>2018-07-01</td>\n",
       "        <td>1209283021</td>\n",
       "        <td>329482048384792</td>\n",
       "        <td>like</td>\n",
       "        <td>None</td>\n",
       "        <td>1</td>\n",
       "        <td>2</td>\n",
       "        <td>329482048384792</td>\n",
       "        <td>1</td>\n",
       "    </tr>\n",
       "    <tr>\n",
       "        <td>2018-07-01</td>\n",
       "        <td>1209283021</td>\n",
       "        <td>329482048384792</td>\n",
       "        <td>view</td>\n",
       "        <td>None</td>\n",
       "        <td>1</td>\n",
       "        <td>2</td>\n",
       "        <td>329482048384792</td>\n",
       "        <td>1</td>\n",
       "    </tr>\n",
       "    <tr>\n",
       "        <td>2018-07-01</td>\n",
       "        <td>1238472931</td>\n",
       "        <td>329482048384792</td>\n",
       "        <td>report</td>\n",
       "        <td>SPAM</td>\n",
       "        <td>1</td>\n",
       "        <td>4</td>\n",
       "        <td>329482048384792</td>\n",
       "        <td>1</td>\n",
       "    </tr>\n",
       "    <tr>\n",
       "        <td>2018-07-01</td>\n",
       "        <td>1238712388</td>\n",
       "        <td>329482048384792</td>\n",
       "        <td>reshare</td>\n",
       "        <td>I wanted to share with you all</td>\n",
       "        <td>1</td>\n",
       "        <td>5</td>\n",
       "        <td>329482048384792</td>\n",
       "        <td>1</td>\n",
       "    </tr>\n",
       "</table>"
      ],
      "text/plain": [
       "[('2018-07-01', 1209283021, 329482048384792, 'comment', 'Such nice Raybans', 1, 3, 329482048384792, 1),\n",
       " ('2018-07-01', 1209283021, 329482048384792, 'like', None, 1, 2, 329482048384792, 1),\n",
       " ('2018-07-01', 1209283021, 329482048384792, 'view', None, 1, 2, 329482048384792, 1),\n",
       " ('2018-07-01', 1238472931, 329482048384792, 'report', 'SPAM', 1, 4, 329482048384792, 1),\n",
       " ('2018-07-01', 1238712388, 329482048384792, 'reshare', 'I wanted to share with you all', 1, 5, 329482048384792, 1)]"
      ]
     },
     "execution_count": 124,
     "metadata": {},
     "output_type": "execute_result"
    }
   ],
   "source": [
    "%%sql\n",
    "select * from user_actions as a\n",
    "INNER JOIN\n",
    "remove as b\n",
    "on a.post_id = b.post_id and b.review_id=1 "
   ]
  },
  {
   "cell_type": "code",
   "execution_count": null,
   "metadata": {},
   "outputs": [],
   "source": []
  }
 ],
 "metadata": {
  "kernelspec": {
   "display_name": "Python [conda env:anaconda3]",
   "language": "python",
   "name": "conda-env-anaconda3-py"
  },
  "language_info": {
   "codemirror_mode": {
    "name": "ipython",
    "version": 3
   },
   "file_extension": ".py",
   "mimetype": "text/x-python",
   "name": "python",
   "nbconvert_exporter": "python",
   "pygments_lexer": "ipython3",
   "version": "3.6.5"
  },
  "toc": {
   "base_numbering": 1,
   "nav_menu": {},
   "number_sections": true,
   "sideBar": true,
   "skip_h1_title": false,
   "title_cell": "Table of Contents",
   "title_sidebar": "Contents",
   "toc_cell": false,
   "toc_position": {
    "height": "calc(100% - 180px)",
    "left": "10px",
    "top": "150px",
    "width": "359px"
   },
   "toc_section_display": true,
   "toc_window_display": false
  }
 },
 "nbformat": 4,
 "nbformat_minor": 2
}
